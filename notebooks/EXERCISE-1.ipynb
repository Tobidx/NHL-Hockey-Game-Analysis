{
 "cells": [
  {
   "cell_type": "code",
   "execution_count": 7,
   "id": "63e0e536-04d5-42be-8665-571e778cf6dd",
   "metadata": {},
   "outputs": [
    {
     "name": "stdout",
     "output_type": "stream",
     "text": [
      "/Users/ajibolaoluwatobiloba/Desktop/NHL ASSIGNMENT\n"
     ]
    }
   ],
   "source": [
    "import os\n",
    "\n",
    "# Set the directory\n",
    "os.chdir('/Users/ajibolaoluwatobiloba/Desktop/NHL ASSIGNMENT')\n",
    "\n",
    "# Verify the change\n",
    "print(os.getcwd())\n"
   ]
  },
  {
   "cell_type": "code",
   "execution_count": null,
   "id": "cd433263-1a25-4299-8787-f2b7554bad8c",
   "metadata": {},
   "outputs": [],
   "source": []
  },
  {
   "cell_type": "code",
   "execution_count": null,
   "id": "199869fa-b44f-45ee-816d-90cba0b0f49e",
   "metadata": {},
   "outputs": [],
   "source": []
  },
  {
   "cell_type": "code",
   "execution_count": 11,
   "id": "68f2491d-bf64-421e-af85-000e0e9f4356",
   "metadata": {},
   "outputs": [
    {
     "name": "stderr",
     "output_type": "stream",
     "text": [
      "16:12:05 - cmdstanpy - INFO - CmdStan start processing\n"
     ]
    },
    {
     "name": "stdout",
     "output_type": "stream",
     "text": [
      "Number of games in season: 1292\n",
      "\n",
      "Number of teams: 32\n",
      "\n",
      "Teams: ['ANA', 'ARI', 'BOS', 'BUF', 'CAR', 'CBJ', 'CGY', 'CHI', 'COL', 'DAL', 'DET', 'EDM', 'FLA', 'LAK', 'MIN', 'MTL', 'NJD', 'NSH', 'NYI', 'NYR', 'OTT', 'PHI', 'PIT', 'SEA', 'SJS', 'STL', 'TBL', 'TOR', 'VAN', 'VGK', 'WPG', 'WSH']\n",
      "\n",
      "Summary statistics:\n",
      "Average home goals: 3.22\n",
      "Average away goals: 3.00\n",
      "Number of b2b games (home): 119\n",
      "Number of b2b games (away): 235\n"
     ]
    },
    {
     "data": {
      "application/vnd.jupyter.widget-view+json": {
       "model_id": "4d8e0cda56124d9881d7c3cb91d7d45c",
       "version_major": 2,
       "version_minor": 0
      },
      "text/plain": [
       "chain 1 |          | 00:00 Status"
      ]
     },
     "metadata": {},
     "output_type": "display_data"
    },
    {
     "data": {
      "application/vnd.jupyter.widget-view+json": {
       "model_id": "894b503f7eea4638b974354c2176679c",
       "version_major": 2,
       "version_minor": 0
      },
      "text/plain": [
       "chain 2 |          | 00:00 Status"
      ]
     },
     "metadata": {},
     "output_type": "display_data"
    },
    {
     "data": {
      "application/vnd.jupyter.widget-view+json": {
       "model_id": "427d8b27bd50461c8ed342ddf48c4672",
       "version_major": 2,
       "version_minor": 0
      },
      "text/plain": [
       "chain 3 |          | 00:00 Status"
      ]
     },
     "metadata": {},
     "output_type": "display_data"
    },
    {
     "data": {
      "application/vnd.jupyter.widget-view+json": {
       "model_id": "b95fb62cadbb470e80171892104b3d27",
       "version_major": 2,
       "version_minor": 0
      },
      "text/plain": [
       "chain 4 |          | 00:00 Status"
      ]
     },
     "metadata": {},
     "output_type": "display_data"
    },
    {
     "name": "stdout",
     "output_type": "stream",
     "text": [
      "                                                                                                                                                                                                                                                                                                                                "
     ]
    },
    {
     "name": "stderr",
     "output_type": "stream",
     "text": [
      "16:12:10 - cmdstanpy - INFO - CmdStan done processing.\n"
     ]
    },
    {
     "name": "stdout",
     "output_type": "stream",
     "text": [
      "\n"
     ]
    },
    {
     "name": "stderr",
     "output_type": "stream",
     "text": [
      "16:12:10 - cmdstanpy - INFO - CmdStan start processing\n"
     ]
    },
    {
     "data": {
      "application/vnd.jupyter.widget-view+json": {
       "model_id": "8640b82114b74834b31a28e321c995f0",
       "version_major": 2,
       "version_minor": 0
      },
      "text/plain": [
       "chain 1 |          | 00:00 Status"
      ]
     },
     "metadata": {},
     "output_type": "display_data"
    },
    {
     "data": {
      "application/vnd.jupyter.widget-view+json": {
       "model_id": "d527f2824bb545b8993a2e8efa80a003",
       "version_major": 2,
       "version_minor": 0
      },
      "text/plain": [
       "chain 2 |          | 00:00 Status"
      ]
     },
     "metadata": {},
     "output_type": "display_data"
    },
    {
     "data": {
      "application/vnd.jupyter.widget-view+json": {
       "model_id": "8f79bafd4c194d119a1246140f81e048",
       "version_major": 2,
       "version_minor": 0
      },
      "text/plain": [
       "chain 3 |          | 00:00 Status"
      ]
     },
     "metadata": {},
     "output_type": "display_data"
    },
    {
     "data": {
      "application/vnd.jupyter.widget-view+json": {
       "model_id": "62f49957d9f6465fb76a5a261b708a16",
       "version_major": 2,
       "version_minor": 0
      },
      "text/plain": [
       "chain 4 |          | 00:00 Status"
      ]
     },
     "metadata": {},
     "output_type": "display_data"
    },
    {
     "name": "stdout",
     "output_type": "stream",
     "text": [
      "                                                                                                                                                                                                                                                                                                                                "
     ]
    },
    {
     "name": "stderr",
     "output_type": "stream",
     "text": [
      "16:12:16 - cmdstanpy - INFO - CmdStan done processing.\n"
     ]
    },
    {
     "name": "stdout",
     "output_type": "stream",
     "text": [
      "\n",
      "\n",
      "Original Model Diagnostics:\n",
      "Processing csv files: /var/folders/2g/jqy8zbqj43g1g1t7rhb5xl9h0000gn/T/tmpfgv1abcb/bayes_hockey_examplemrw_0ais/bayes_hockey_example-20241124161205_1.csv, /var/folders/2g/jqy8zbqj43g1g1t7rhb5xl9h0000gn/T/tmpfgv1abcb/bayes_hockey_examplemrw_0ais/bayes_hockey_example-20241124161205_2.csv, /var/folders/2g/jqy8zbqj43g1g1t7rhb5xl9h0000gn/T/tmpfgv1abcb/bayes_hockey_examplemrw_0ais/bayes_hockey_example-20241124161205_3.csv, /var/folders/2g/jqy8zbqj43g1g1t7rhb5xl9h0000gn/T/tmpfgv1abcb/bayes_hockey_examplemrw_0ais/bayes_hockey_example-20241124161205_4.csv\n",
      "\n",
      "Checking sampler transitions treedepth.\n",
      "Treedepth satisfactory for all transitions.\n",
      "\n",
      "Checking sampler transitions for divergences.\n",
      "No divergent transitions found.\n",
      "\n",
      "Checking E-BFMI - sampler transitions HMC potential energy.\n",
      "E-BFMI satisfactory.\n",
      "\n",
      "Effective sample size satisfactory.\n",
      "\n",
      "Split R-hat values satisfactory all parameters.\n",
      "\n",
      "Processing complete, no problems detected.\n",
      "\n",
      "\n",
      "B2B Model Diagnostics:\n",
      "Processing csv files: /var/folders/2g/jqy8zbqj43g1g1t7rhb5xl9h0000gn/T/tmpfgv1abcb/stan-model-b2b7omkyxic/stan-model-b2b-20241124161210_1.csv, /var/folders/2g/jqy8zbqj43g1g1t7rhb5xl9h0000gn/T/tmpfgv1abcb/stan-model-b2b7omkyxic/stan-model-b2b-20241124161210_2.csv, /var/folders/2g/jqy8zbqj43g1g1t7rhb5xl9h0000gn/T/tmpfgv1abcb/stan-model-b2b7omkyxic/stan-model-b2b-20241124161210_3.csv, /var/folders/2g/jqy8zbqj43g1g1t7rhb5xl9h0000gn/T/tmpfgv1abcb/stan-model-b2b7omkyxic/stan-model-b2b-20241124161210_4.csv\n",
      "\n",
      "Checking sampler transitions treedepth.\n",
      "Treedepth satisfactory for all transitions.\n",
      "\n",
      "Checking sampler transitions for divergences.\n",
      "No divergent transitions found.\n",
      "\n",
      "Checking E-BFMI - sampler transitions HMC potential energy.\n",
      "E-BFMI satisfactory.\n",
      "\n",
      "Effective sample size satisfactory.\n",
      "\n",
      "Split R-hat values satisfactory all parameters.\n",
      "\n",
      "Processing complete, no problems detected.\n",
      "\n",
      "\n",
      "Original Model Summary:\n",
      "                            Mean      MCSE    StdDev           5%  \\\n",
      "lp__                 1268.880000  0.296106  8.381950  1254.150000   \n",
      "sigma                   0.096591  0.000493  0.015591     0.073423   \n",
      "team_off[1]            -0.145244  0.000711  0.044237    -0.218384   \n",
      "team_off[2]            -0.032169  0.000686  0.043783    -0.105299   \n",
      "team_off[3]             0.071631  0.000630  0.042939     0.002088   \n",
      "...                          ...       ...       ...          ...   \n",
      "lam_away_rate[1288]     2.643520  0.001978  0.154589     2.397840   \n",
      "lam_away_rate[1289]     3.042370  0.002230  0.175801     2.760850   \n",
      "lam_away_rate[1290]     3.067150  0.002207  0.176650     2.785060   \n",
      "lam_away_rate[1291]     2.640750  0.002046  0.156085     2.390010   \n",
      "lam_away_rate[1292]     3.353140  0.002575  0.198592     3.041900   \n",
      "\n",
      "                             50%          95%     N_Eff   N_Eff/s     R_hat  \n",
      "lp__                 1269.550000  1281.530000   801.302   95.4954  1.004080  \n",
      "sigma                   0.094891     0.124607  1000.150  119.1930  1.003040  \n",
      "team_off[1]            -0.145374    -0.073240  3873.630  461.6410  1.000310  \n",
      "team_off[2]            -0.031792     0.038243  4070.640  485.1200  1.001070  \n",
      "team_off[3]             0.071747     0.140412  4638.630  552.8100  0.999616  \n",
      "...                          ...          ...       ...       ...       ...  \n",
      "lam_away_rate[1288]     2.641020     2.899040  6109.880  728.1470  0.999438  \n",
      "lam_away_rate[1289]     3.037770     3.336690  6212.820  740.4140  0.999352  \n",
      "lam_away_rate[1290]     3.060570     3.363730  6405.730  763.4050  0.999254  \n",
      "lam_away_rate[1291]     2.638400     2.905490  5818.380  693.4070  0.999450  \n",
      "lam_away_rate[1292]     3.346420     3.691920  5946.440  708.6690  1.000010  \n",
      "\n",
      "[2652 rows x 9 columns]\n"
     ]
    }
   ],
   "source": [
    "import numpy as np\n",
    "import datetime\n",
    "import cmdstanpy\n",
    "import pandas as pd\n",
    "from cmdstanpy import CmdStanModel\n",
    "import arviz as az\n",
    "import matplotlib.pyplot as plt\n",
    "import nest_asyncio\n",
    "nest_asyncio.apply()\n",
    "plt.style.use('ggplot')\n",
    "\n",
    "# Read the data\n",
    "df = pd.read_csv('model_inputs.csv')\n",
    "\n",
    "# Convert date column to datetime\n",
    "df['date'] = pd.to_datetime(df['date'])\n",
    "\n",
    "# Get season from game_id (first 4 digits)\n",
    "df['season'] = df['game_id'].astype(str).str[:4].astype(int)\n",
    "\n",
    "# Create a copy for the season data to avoid SettingWithCopyWarning\n",
    "df_season = df[df['season'] == 2023].copy()\n",
    "\n",
    "# Create team indices (adding 1 for Stan's 1-based indexing)\n",
    "home_inds, teams = pd.factorize(df_season['hm_team'], sort=True)\n",
    "away_inds, _ = pd.factorize(df_season['aw_team'], sort=True)\n",
    "df_season.loc[:, 'home_inds'] = home_inds + 1\n",
    "df_season.loc[:, 'away_inds'] = away_inds + 1\n",
    "\n",
    "print(\"Number of games in season:\", len(df_season))\n",
    "print(\"\\nNumber of teams:\", len(teams))\n",
    "print(\"\\nTeams:\", teams.tolist())\n",
    "\n",
    "# Print some statistics to verify data\n",
    "print(\"\\nSummary statistics:\")\n",
    "print(f\"Average home goals: {df_season['home_total_goals'].mean():.2f}\")\n",
    "print(f\"Average away goals: {df_season['away_total_goals'].mean():.2f}\")\n",
    "print(f\"Number of b2b games (home): {df_season['hm_is_b2b'].sum()}\")\n",
    "print(f\"Number of b2b games (away): {df_season['aw_is_b2b'].sum()}\")\n",
    "\n",
    "# Prepare data for Stan\n",
    "data = {\n",
    "    'N': len(df_season),\n",
    "    'n_teams': len(teams),\n",
    "    'home_team': df_season['home_inds'].values,\n",
    "    'away_team': df_season['away_inds'].values,\n",
    "    'home_total_goals': df_season['home_total_goals'].values,\n",
    "    'away_total_goals': df_season['away_total_goals'].values,\n",
    "    'home_b2b': df_season['hm_is_b2b'].values,\n",
    "    'away_b2b': df_season['aw_is_b2b'].values\n",
    "}\n",
    "\n",
    "# Initial values as dictionaries\n",
    "init_values_orig = [\n",
    "    {\n",
    "        'sigma': 0.1,\n",
    "        'alpha': 1.0,\n",
    "        'p_ha': 0.1,\n",
    "        'team_off': list(np.random.normal(0, 0.1, len(teams))),\n",
    "        'team_def': list(np.random.normal(0, 0.1, len(teams)))\n",
    "    } for _ in range(4)  # One for each chain\n",
    "]\n",
    "\n",
    "init_values_b2b = [\n",
    "    {\n",
    "        'sigma': 0.1,\n",
    "        'alpha': 1.0,\n",
    "        'p_ha': 0.1,\n",
    "        'b2b_effect': -0.05,\n",
    "        'team_off': list(np.random.normal(0, 0.1, len(teams))),\n",
    "        'team_def': list(np.random.normal(0, 0.1, len(teams)))\n",
    "    } for _ in range(4)  # One for each chain\n",
    "]\n",
    "\n",
    "# Fit original model\n",
    "model_orig = CmdStanModel(stan_file='bayes_hockey_example.stan')\n",
    "fit_orig = model_orig.sample(\n",
    "    data={k: v for k, v in data.items() if k not in ['home_b2b', 'away_b2b']},\n",
    "    chains=4,\n",
    "    inits=init_values_orig,\n",
    "    iter_warmup=1000,\n",
    "    iter_sampling=1000\n",
    ")\n",
    "\n",
    "# Fit b2b model\n",
    "model_b2b = CmdStanModel(stan_file='stan-model-b2b.stan')\n",
    "fit_b2b = model_b2b.sample(\n",
    "    data=data,\n",
    "    chains=4,\n",
    "    inits=init_values_b2b,\n",
    "    iter_warmup=1000,\n",
    "    iter_sampling=1000\n",
    ")\n",
    "\n",
    "# Print diagnostics\n",
    "print(\"\\nOriginal Model Diagnostics:\")\n",
    "print(fit_orig.diagnose())\n",
    "print(\"\\nB2B Model Diagnostics:\")\n",
    "print(fit_b2b.diagnose())\n",
    "\n",
    "# Summary of parameters\n",
    "print(\"\\nOriginal Model Summary:\")\n",
    "print(fit_orig.summary())"
   ]
  },
  {
   "cell_type": "code",
   "execution_count": null,
   "id": "2b1d13eb-e4ba-46d5-bd6b-88090039da2a",
   "metadata": {},
   "outputs": [],
   "source": [
    "# Analysis & Comparison of both  models"
   ]
  },
  {
   "cell_type": "code",
   "execution_count": 14,
   "id": "f2a68ae9-b230-4f41-84d5-cf6c71ad00d7",
   "metadata": {},
   "outputs": [
    {
     "name": "stdout",
     "output_type": "stream",
     "text": [
      "\n",
      "Back-to-back Effect Summary:\n",
      "Mean B2B effect: -0.0618\n",
      "Standard deviation: 0.0276\n",
      "95% Credible Interval: [-0.1168, -0.0068]\n",
      "\n",
      "Home Advantage Effect:\n",
      "Original model: 0.0398 ± 0.0098\n",
      "B2B model: 0.0379 ± 0.0097\n"
     ]
    },
    {
     "data": {
      "image/png": "[encoded data removed]",
      "text/plain": [
       "<Figure size 1500x600 with 2 Axes>"
      ]
     },
     "metadata": {},
     "output_type": "display_data"
    },
    {
     "name": "stdout",
     "output_type": "stream",
     "text": [
      "\n",
      "Actual Goal Averages:\n",
      "Home games without B2B: 3.241\n",
      "Home games with B2B: 3.050\n",
      "Away games without B2B: 3.013\n",
      "Away games with B2B: 2.923\n",
      "\n",
      "Model Predictions (Mean Rates):\n",
      "Original model - Home: 3.233, Away: 2.987\n",
      "B2B model - Home: 3.236, Away: 2.985\n",
      "\n",
      "Model Performance (RMSE):\n",
      "Original model - Home: 1.703, Away: 1.715\n",
      "B2B model - Home: 1.679, Away: 1.701\n"
     ]
    }
   ],
   "source": [
    "\n",
    "import numpy as np\n",
    "import pandas as pd\n",
    "import matplotlib.pyplot as plt\n",
    "\n",
    "# Get the b2b effect parameter\n",
    "print(\"\\nBack-to-back Effect Summary:\")\n",
    "b2b_effect = fit_b2b.stan_variable('b2b_effect')\n",
    "print(f\"Mean B2B effect: {np.mean(b2b_effect):.4f}\")\n",
    "print(f\"Standard deviation: {np.std(b2b_effect):.4f}\")\n",
    "print(f\"95% Credible Interval: [{np.percentile(b2b_effect, 2.5):.4f}, {np.percentile(b2b_effect, 97.5):.4f}]\")\n",
    "\n",
    "# Get home advantage parameter from both models\n",
    "p_ha_orig = fit_orig.stan_variable('p_ha')\n",
    "p_ha_b2b = fit_b2b.stan_variable('p_ha')\n",
    "print(\"\\nHome Advantage Effect:\")\n",
    "print(f\"Original model: {np.mean(p_ha_orig):.4f} ± {np.std(p_ha_orig):.4f}\")\n",
    "print(f\"B2B model: {np.mean(p_ha_b2b):.4f} ± {np.std(p_ha_b2b):.4f}\")\n",
    "\n",
    "# Create figure with three subplots\n",
    "plt.figure(figsize=(15, 6))\n",
    "\n",
    "# Plot 1: Distribution of goals with and without b2b\n",
    "plt.subplot(1, 2, 1)\n",
    "data_to_plot = [\n",
    "    df_season[df_season['hm_is_b2b'] == 0]['home_total_goals'],\n",
    "    df_season[df_season['hm_is_b2b'] == 1]['home_total_goals'],\n",
    "    df_season[df_season['aw_is_b2b'] == 0]['away_total_goals'],\n",
    "    df_season[df_season['aw_is_b2b'] == 1]['away_total_goals']\n",
    "]\n",
    "plt.boxplot(data_to_plot, labels=['Home\\n(No B2B)', 'Home\\n(B2B)', 'Away\\n(No B2B)', 'Away\\n(B2B)'])\n",
    "plt.title('Distribution of Goals: B2B vs Non-B2B Games')\n",
    "plt.ylabel('Goals Scored')\n",
    "\n",
    "# Plot 2: B2B Effect Distribution\n",
    "plt.subplot(1, 2, 2)\n",
    "plt.hist(b2b_effect, bins=30, density=True)\n",
    "plt.axvline(np.mean(b2b_effect), color='r', linestyle='--', label='Mean')\n",
    "plt.axvline(np.percentile(b2b_effect, 2.5), color='g', linestyle='--', label='95% CI')\n",
    "plt.axvline(np.percentile(b2b_effect, 97.5), color='g', linestyle='--')\n",
    "plt.title('Distribution of B2B Effect Parameter')\n",
    "plt.xlabel('B2B Effect Size')\n",
    "plt.ylabel('Density')\n",
    "plt.legend()\n",
    "\n",
    "plt.tight_layout()\n",
    "plt.show()\n",
    "\n",
    "# Calculate average actual goals for b2b vs non-b2b games\n",
    "print(\"\\nActual Goal Averages:\")\n",
    "print(f\"Home games without B2B: {df_season[df_season['hm_is_b2b'] == 0]['home_total_goals'].mean():.3f}\")\n",
    "print(f\"Home games with B2B: {df_season[df_season['hm_is_b2b'] == 1]['home_total_goals'].mean():.3f}\")\n",
    "print(f\"Away games without B2B: {df_season[df_season['aw_is_b2b'] == 0]['away_total_goals'].mean():.3f}\")\n",
    "print(f\"Away games with B2B: {df_season[df_season['aw_is_b2b'] == 1]['away_total_goals'].mean():.3f}\")\n",
    "\n",
    "# Compare model predictions\n",
    "home_rates_orig = fit_orig.stan_variable('lam_home_rate')\n",
    "away_rates_orig = fit_orig.stan_variable('lam_away_rate')\n",
    "home_rates_b2b = fit_b2b.stan_variable('lam_home_rate')\n",
    "away_rates_b2b = fit_b2b.stan_variable('lam_away_rate')\n",
    "\n",
    "print(\"\\nModel Predictions (Mean Rates):\")\n",
    "print(f\"Original model - Home: {np.mean(home_rates_orig):.3f}, Away: {np.mean(away_rates_orig):.3f}\")\n",
    "print(f\"B2B model - Home: {np.mean(home_rates_b2b):.3f}, Away: {np.mean(away_rates_b2b):.3f}\")\n",
    "\n",
    "# Calculate Root Mean Square Error (RMSE) for both models\n",
    "def calculate_rmse(actual, predicted_rates):\n",
    "    predicted = np.mean(predicted_rates, axis=0)\n",
    "    return np.sqrt(np.mean((actual - predicted) ** 2))\n",
    "\n",
    "rmse_orig_home = calculate_rmse(df_season['home_total_goals'].values, home_rates_orig)\n",
    "rmse_orig_away = calculate_rmse(df_season['away_total_goals'].values, away_rates_orig)\n",
    "rmse_b2b_home = calculate_rmse(df_season['home_total_goals'].values, home_rates_b2b)\n",
    "rmse_b2b_away = calculate_rmse(df_season['away_total_goals'].values, away_rates_b2b)\n",
    "\n",
    "print(\"\\nModel Performance (RMSE):\")\n",
    "print(f\"Original model - Home: {rmse_orig_home:.3f}, Away: {rmse_orig_away:.3f}\")\n",
    "print(f\"B2B model - Home: {rmse_b2b_home:.3f}, Away: {rmse_b2b_away:.3f}\")"
   ]
  },
  {
   "cell_type": "code",
   "execution_count": null,
   "id": "d3327557-d1ab-4d86-8742-e7867148e242",
   "metadata": {},
   "outputs": [],
   "source": []
  },
  {
   "cell_type": "code",
   "execution_count": null,
   "id": "24b52f1b-4ed7-4870-b51f-4acb85c419ee",
   "metadata": {},
   "outputs": [],
   "source": []
  }
 ],
 "metadata": {
  "kernelspec": {
   "display_name": "Python 3 (ipykernel)",
   "language": "python",
   "name": "python3"
  },
  "language_info": {
   "codemirror_mode": {
    "name": "ipython",
    "version": 3
   },
   "file_extension": ".py",
   "mimetype": "text/x-python",
   "name": "python",
   "nbconvert_exporter": "python",
   "pygments_lexer": "ipython3",
   "version": "3.11.5"
  }
 },
 "nbformat": 4,
 "nbformat_minor": 5
}
